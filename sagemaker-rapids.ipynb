{
 "cells": [
  {
   "cell_type": "markdown",
   "metadata": {},
   "source": [
    "# Running RAPIDS hyperparameter experiments at scale on Amazon SageMaker"
   ]
  },
  {
   "cell_type": "markdown",
   "metadata": {},
   "source": [
    "##### Import packages and create Amazon SageMaker and Boto3 sessions"
   ]
  },
  {
   "cell_type": "code",
   "execution_count": 14,
   "metadata": {},
   "outputs": [],
   "source": [
    "import os\n",
    "import numpy as np\n",
    "import time\n",
    "import numpy as np\n",
    "import sagemaker\n",
    "import time\n",
    "import boto3\n",
    "from sagemaker.s3 import S3Uploader\n",
    "\n",
    "sess = boto3.Session()\n",
    "s3 = boto3.resource('s3')\n",
    "sagemaker_session = sagemaker.Session()\n",
    "role = 'admin-role' #sagemaker.get_execution_role()"
   ]
  },
  {
   "cell_type": "markdown",
   "metadata": {},
   "source": [
    "##### Download the higgs-boson dataset"
   ]
  },
  {
   "cell_type": "code",
   "execution_count": null,
   "metadata": {},
   "outputs": [],
   "source": [
    "!mkdir dataset\n",
    "!wget -P dataset https://archive.ics.uci.edu/ml/machine-learning-databases/00280/HIGGS.csv.gz\n",
    "!gunzip dataset/HIGGS.csv.gz"
   ]
  },
  {
   "cell_type": "markdown",
   "metadata": {},
   "source": [
    "##### Download the RAPIDS container from Docker hub"
   ]
  },
  {
   "cell_type": "code",
   "execution_count": null,
   "metadata": {},
   "outputs": [],
   "source": [
    "!docker pull rapidsai/rapidsai:cuda10.0-runtime-ubuntu16.04"
   ]
  },
  {
   "cell_type": "markdown",
   "metadata": {},
   "source": [
    "##### Define hyperparameters: start with best guess values\n",
    "Find the full list of Random Forest hyperparameters here in the RAPIDS doc page:\n",
    "<br>\n",
    "https://rapidsai.github.io/projects/cuml/en/0.11.0/api.html#random-forest"
   ]
  },
  {
   "cell_type": "code",
   "execution_count": 15,
   "metadata": {},
   "outputs": [],
   "source": [
    "hyperparams={ \n",
    "    'n_estimators'       : 15,\n",
    "    'max_depth'          : 5,\n",
    "    'n_bins'             : 8,\n",
    "    'split_criterion'    : 0,      # GINI:0, ENTROPY:1\n",
    "    'split_algo'         : 0,      # HIST:0 GLOBAL_QUANTILE:1\n",
    "    'bootstrap'          : 0,      # true: sample with replacement, false: sample without replacement\n",
    "    'bootstrap_features' : 0,      # true: sample with replacement, false: sample without replacement\n",
    "    'max_leaves'         : -1,     # unlimited leaves\n",
    "    'max_features'       : 0.2, \n",
    "}"
   ]
  },
  {
   "cell_type": "markdown",
   "metadata": {},
   "source": [
    "##### Before we run a large scale experiment, test training locally using the SageMaker SDK"
   ]
  },
  {
   "cell_type": "markdown",
   "metadata": {},
   "source": [
    "##### Extend RAPIDS container by copying the training script and installing SageMaker containers which makes RAPIDS compatible with SageMaker"
   ]
  },
  {
   "cell_type": "code",
   "execution_count": null,
   "metadata": {},
   "outputs": [],
   "source": [
    "!cat docker/Dockerfile"
   ]
  },
  {
   "cell_type": "code",
   "execution_count": 22,
   "metadata": {},
   "outputs": [
    {
     "name": "stdout",
     "output_type": "stream",
     "text": [
      "Sending build context to Docker daemon  8.704kB\n",
      "Step 1/5 : FROM rapidsai/rapidsai:cuda10.0-runtime-ubuntu16.04\n",
      " ---> 1ed8b88fe8ba\n",
      "Step 2/5 : RUN apt-get update && apt-get install -y --no-install-recommends build-essential\n",
      " ---> Using cache\n",
      " ---> 6a1441d22aeb\n",
      "Step 3/5 : RUN source activate rapids && pip install sagemaker-containers\n",
      " ---> Using cache\n",
      " ---> 296deda06849\n",
      "Step 4/5 : COPY rapids-higgs.py /opt/ml/code/rapids-higgs.py\n",
      " ---> 369e0eb38125\n",
      "Step 5/5 : ENV SAGEMAKER_PROGRAM rapids-higgs.py\n",
      " ---> Running in fa149ecdaa38\n",
      "Removing intermediate container fa149ecdaa38\n",
      " ---> e1abadefd521\n",
      "Successfully built e1abadefd521\n",
      "Successfully tagged sagemaker-rapids:latest\n"
     ]
    }
   ],
   "source": [
    "!docker build -t sagemaker-rapids:latest docker"
   ]
  },
  {
   "cell_type": "code",
   "execution_count": 23,
   "metadata": {},
   "outputs": [],
   "source": [
    "from sagemaker.estimator import Estimator\n",
    "\n",
    "train_instance_type = 'local_gpu'\n",
    "local_data_dir = 'file://./dataset'\n",
    "\n",
    "rapids_estimator = Estimator(image_name='sagemaker-rapids:latest',\n",
    "                          role=role,\n",
    "                          train_instance_count=1,\n",
    "                          train_instance_type=train_instance_type,\n",
    "                          hyperparameters=hyperparams,\n",
    "                          metric_definitions=[{'Name': 'test_acc', 'Regex': 'test_acc: ([0-9\\\\.]+)'}])"
   ]
  },
  {
   "cell_type": "code",
   "execution_count": 24,
   "metadata": {},
   "outputs": [
    {
     "name": "stderr",
     "output_type": "stream",
     "text": [
      "WARNING:sagemaker.local.image:Using the short-lived AWS credentials found in session. They might expire while running.\n"
     ]
    },
    {
     "name": "stdout",
     "output_type": "stream",
     "text": [
      "Creating tmptgfvyt34_algo-1-tx2g3_1 ... \n",
      "\u001b[1BAttaching to tmptgfvyt34_algo-1-tx2g3_12mdone\u001b[0m\n",
      "\u001b[36malgo-1-tx2g3_1  |\u001b[0m 2020-05-14 23:41:25,921 sagemaker-containers INFO     Invoking user script\n",
      "\u001b[36malgo-1-tx2g3_1  |\u001b[0m \n",
      "\u001b[36malgo-1-tx2g3_1  |\u001b[0m Training Env:\n",
      "\u001b[36malgo-1-tx2g3_1  |\u001b[0m \n",
      "\u001b[36malgo-1-tx2g3_1  |\u001b[0m {\n",
      "\u001b[36malgo-1-tx2g3_1  |\u001b[0m     \"additional_framework_parameters\": {},\n",
      "\u001b[36malgo-1-tx2g3_1  |\u001b[0m     \"channel_input_dirs\": {\n",
      "\u001b[36malgo-1-tx2g3_1  |\u001b[0m         \"dataset\": \"/opt/ml/input/data/dataset\"\n",
      "\u001b[36malgo-1-tx2g3_1  |\u001b[0m     },\n",
      "\u001b[36malgo-1-tx2g3_1  |\u001b[0m     \"current_host\": \"algo-1-tx2g3\",\n",
      "\u001b[36malgo-1-tx2g3_1  |\u001b[0m     \"framework_module\": null,\n",
      "\u001b[36malgo-1-tx2g3_1  |\u001b[0m     \"hosts\": [\n",
      "\u001b[36malgo-1-tx2g3_1  |\u001b[0m         \"algo-1-tx2g3\"\n",
      "\u001b[36malgo-1-tx2g3_1  |\u001b[0m     ],\n",
      "\u001b[36malgo-1-tx2g3_1  |\u001b[0m     \"hyperparameters\": {\n",
      "\u001b[36malgo-1-tx2g3_1  |\u001b[0m         \"n_estimators\": 15,\n",
      "\u001b[36malgo-1-tx2g3_1  |\u001b[0m         \"max_depth\": 5,\n",
      "\u001b[36malgo-1-tx2g3_1  |\u001b[0m         \"n_bins\": 8,\n",
      "\u001b[36malgo-1-tx2g3_1  |\u001b[0m         \"split_criterion\": 0,\n",
      "\u001b[36malgo-1-tx2g3_1  |\u001b[0m         \"split_algo\": 0,\n",
      "\u001b[36malgo-1-tx2g3_1  |\u001b[0m         \"bootstrap\": 0,\n",
      "\u001b[36malgo-1-tx2g3_1  |\u001b[0m         \"bootstrap_features\": 0,\n",
      "\u001b[36malgo-1-tx2g3_1  |\u001b[0m         \"max_leaves\": -1,\n",
      "\u001b[36malgo-1-tx2g3_1  |\u001b[0m         \"max_features\": 0.2\n",
      "\u001b[36malgo-1-tx2g3_1  |\u001b[0m     },\n",
      "\u001b[36malgo-1-tx2g3_1  |\u001b[0m     \"input_config_dir\": \"/opt/ml/input/config\",\n",
      "\u001b[36malgo-1-tx2g3_1  |\u001b[0m     \"input_data_config\": {\n",
      "\u001b[36malgo-1-tx2g3_1  |\u001b[0m         \"dataset\": {\n",
      "\u001b[36malgo-1-tx2g3_1  |\u001b[0m             \"TrainingInputMode\": \"File\"\n",
      "\u001b[36malgo-1-tx2g3_1  |\u001b[0m         }\n",
      "\u001b[36malgo-1-tx2g3_1  |\u001b[0m     },\n",
      "\u001b[36malgo-1-tx2g3_1  |\u001b[0m     \"input_dir\": \"/opt/ml/input\",\n",
      "\u001b[36malgo-1-tx2g3_1  |\u001b[0m     \"is_master\": true,\n",
      "\u001b[36malgo-1-tx2g3_1  |\u001b[0m     \"job_name\": \"sagemaker-rapids-2020-05-14-23-41-18-876\",\n",
      "\u001b[36malgo-1-tx2g3_1  |\u001b[0m     \"log_level\": 20,\n",
      "\u001b[36malgo-1-tx2g3_1  |\u001b[0m     \"master_hostname\": \"algo-1-tx2g3\",\n",
      "\u001b[36malgo-1-tx2g3_1  |\u001b[0m     \"model_dir\": \"/opt/ml/model\",\n",
      "\u001b[36malgo-1-tx2g3_1  |\u001b[0m     \"module_dir\": \"/opt/ml/code\",\n",
      "\u001b[36malgo-1-tx2g3_1  |\u001b[0m     \"module_name\": \"rapids-higgs\",\n",
      "\u001b[36malgo-1-tx2g3_1  |\u001b[0m     \"network_interface_name\": \"eth0\",\n",
      "\u001b[36malgo-1-tx2g3_1  |\u001b[0m     \"num_cpus\": 12,\n",
      "\u001b[36malgo-1-tx2g3_1  |\u001b[0m     \"num_gpus\": 1,\n",
      "\u001b[36malgo-1-tx2g3_1  |\u001b[0m     \"output_data_dir\": \"/opt/ml/output/data\",\n",
      "\u001b[36malgo-1-tx2g3_1  |\u001b[0m     \"output_dir\": \"/opt/ml/output\",\n",
      "\u001b[36malgo-1-tx2g3_1  |\u001b[0m     \"output_intermediate_dir\": \"/opt/ml/output/intermediate\",\n",
      "\u001b[36malgo-1-tx2g3_1  |\u001b[0m     \"resource_config\": {\n",
      "\u001b[36malgo-1-tx2g3_1  |\u001b[0m         \"current_host\": \"algo-1-tx2g3\",\n",
      "\u001b[36malgo-1-tx2g3_1  |\u001b[0m         \"hosts\": [\n",
      "\u001b[36malgo-1-tx2g3_1  |\u001b[0m             \"algo-1-tx2g3\"\n",
      "\u001b[36malgo-1-tx2g3_1  |\u001b[0m         ]\n",
      "\u001b[36malgo-1-tx2g3_1  |\u001b[0m     },\n",
      "\u001b[36malgo-1-tx2g3_1  |\u001b[0m     \"user_entry_point\": \"rapids-higgs.py\"\n",
      "\u001b[36malgo-1-tx2g3_1  |\u001b[0m }\n",
      "\u001b[36malgo-1-tx2g3_1  |\u001b[0m \n",
      "\u001b[36malgo-1-tx2g3_1  |\u001b[0m Environment variables:\n",
      "\u001b[36malgo-1-tx2g3_1  |\u001b[0m \n",
      "\u001b[36malgo-1-tx2g3_1  |\u001b[0m SM_HOSTS=[\"algo-1-tx2g3\"]\n",
      "\u001b[36malgo-1-tx2g3_1  |\u001b[0m SM_NETWORK_INTERFACE_NAME=eth0\n",
      "\u001b[36malgo-1-tx2g3_1  |\u001b[0m SM_HPS={\"bootstrap\":0,\"bootstrap_features\":0,\"max_depth\":5,\"max_features\":0.2,\"max_leaves\":-1,\"n_bins\":8,\"n_estimators\":15,\"split_algo\":0,\"split_criterion\":0}\n",
      "\u001b[36malgo-1-tx2g3_1  |\u001b[0m SM_USER_ENTRY_POINT=rapids-higgs.py\n",
      "\u001b[36malgo-1-tx2g3_1  |\u001b[0m SM_FRAMEWORK_PARAMS={}\n",
      "\u001b[36malgo-1-tx2g3_1  |\u001b[0m SM_RESOURCE_CONFIG={\"current_host\":\"algo-1-tx2g3\",\"hosts\":[\"algo-1-tx2g3\"]}\n",
      "\u001b[36malgo-1-tx2g3_1  |\u001b[0m SM_INPUT_DATA_CONFIG={\"dataset\":{\"TrainingInputMode\":\"File\"}}\n",
      "\u001b[36malgo-1-tx2g3_1  |\u001b[0m SM_OUTPUT_DATA_DIR=/opt/ml/output/data\n",
      "\u001b[36malgo-1-tx2g3_1  |\u001b[0m SM_CHANNELS=[\"dataset\"]\n",
      "\u001b[36malgo-1-tx2g3_1  |\u001b[0m SM_CURRENT_HOST=algo-1-tx2g3\n",
      "\u001b[36malgo-1-tx2g3_1  |\u001b[0m SM_MODULE_NAME=rapids-higgs\n",
      "\u001b[36malgo-1-tx2g3_1  |\u001b[0m SM_LOG_LEVEL=20\n",
      "\u001b[36malgo-1-tx2g3_1  |\u001b[0m SM_FRAMEWORK_MODULE=\n",
      "\u001b[36malgo-1-tx2g3_1  |\u001b[0m SM_INPUT_DIR=/opt/ml/input\n",
      "\u001b[36malgo-1-tx2g3_1  |\u001b[0m SM_INPUT_CONFIG_DIR=/opt/ml/input/config\n",
      "\u001b[36malgo-1-tx2g3_1  |\u001b[0m SM_OUTPUT_DIR=/opt/ml/output\n",
      "\u001b[36malgo-1-tx2g3_1  |\u001b[0m SM_NUM_CPUS=12\n",
      "\u001b[36malgo-1-tx2g3_1  |\u001b[0m SM_NUM_GPUS=1\n",
      "\u001b[36malgo-1-tx2g3_1  |\u001b[0m SM_MODEL_DIR=/opt/ml/model\n",
      "\u001b[36malgo-1-tx2g3_1  |\u001b[0m SM_MODULE_DIR=/opt/ml/code\n",
      "\u001b[36malgo-1-tx2g3_1  |\u001b[0m SM_TRAINING_ENV={\"additional_framework_parameters\":{},\"channel_input_dirs\":{\"dataset\":\"/opt/ml/input/data/dataset\"},\"current_host\":\"algo-1-tx2g3\",\"framework_module\":null,\"hosts\":[\"algo-1-tx2g3\"],\"hyperparameters\":{\"bootstrap\":0,\"bootstrap_features\":0,\"max_depth\":5,\"max_features\":0.2,\"max_leaves\":-1,\"n_bins\":8,\"n_estimators\":15,\"split_algo\":0,\"split_criterion\":0},\"input_config_dir\":\"/opt/ml/input/config\",\"input_data_config\":{\"dataset\":{\"TrainingInputMode\":\"File\"}},\"input_dir\":\"/opt/ml/input\",\"is_master\":true,\"job_name\":\"sagemaker-rapids-2020-05-14-23-41-18-876\",\"log_level\":20,\"master_hostname\":\"algo-1-tx2g3\",\"model_dir\":\"/opt/ml/model\",\"module_dir\":\"/opt/ml/code\",\"module_name\":\"rapids-higgs\",\"network_interface_name\":\"eth0\",\"num_cpus\":12,\"num_gpus\":1,\"output_data_dir\":\"/opt/ml/output/data\",\"output_dir\":\"/opt/ml/output\",\"output_intermediate_dir\":\"/opt/ml/output/intermediate\",\"resource_config\":{\"current_host\":\"algo-1-tx2g3\",\"hosts\":[\"algo-1-tx2g3\"]},\"user_entry_point\":\"rapids-higgs.py\"}\n",
      "\u001b[36malgo-1-tx2g3_1  |\u001b[0m SM_USER_ARGS=[\"--bootstrap\",\"0\",\"--bootstrap_features\",\"0\",\"--max_depth\",\"5\",\"--max_features\",\"0.2\",\"--max_leaves\",\"-1\",\"--n_bins\",\"8\",\"--n_estimators\",\"15\",\"--split_algo\",\"0\",\"--split_criterion\",\"0\"]\n",
      "\u001b[36malgo-1-tx2g3_1  |\u001b[0m SM_OUTPUT_INTERMEDIATE_DIR=/opt/ml/output/intermediate\n",
      "\u001b[36malgo-1-tx2g3_1  |\u001b[0m SM_CHANNEL_DATASET=/opt/ml/input/data/dataset\n",
      "\u001b[36malgo-1-tx2g3_1  |\u001b[0m SM_HP_N_ESTIMATORS=15\n",
      "\u001b[36malgo-1-tx2g3_1  |\u001b[0m SM_HP_MAX_DEPTH=5\n",
      "\u001b[36malgo-1-tx2g3_1  |\u001b[0m SM_HP_N_BINS=8\n",
      "\u001b[36malgo-1-tx2g3_1  |\u001b[0m SM_HP_SPLIT_CRITERION=0\n",
      "\u001b[36malgo-1-tx2g3_1  |\u001b[0m SM_HP_SPLIT_ALGO=0\n",
      "\u001b[36malgo-1-tx2g3_1  |\u001b[0m SM_HP_BOOTSTRAP=0\n",
      "\u001b[36malgo-1-tx2g3_1  |\u001b[0m SM_HP_BOOTSTRAP_FEATURES=0\n",
      "\u001b[36malgo-1-tx2g3_1  |\u001b[0m SM_HP_MAX_LEAVES=-1\n",
      "\u001b[36malgo-1-tx2g3_1  |\u001b[0m SM_HP_MAX_FEATURES=0.2\n",
      "\u001b[36malgo-1-tx2g3_1  |\u001b[0m PYTHONPATH=/opt/ml/code:/opt/conda/envs/rapids/bin:/opt/conda/envs/rapids/lib/python36.zip:/opt/conda/envs/rapids/lib/python3.6:/opt/conda/envs/rapids/lib/python3.6/lib-dynload:/opt/conda/envs/rapids/lib/python3.6/site-packages\n",
      "\u001b[36malgo-1-tx2g3_1  |\u001b[0m \n",
      "\u001b[36malgo-1-tx2g3_1  |\u001b[0m Invoking script with the following command:\n",
      "\u001b[36malgo-1-tx2g3_1  |\u001b[0m \n",
      "\u001b[36malgo-1-tx2g3_1  |\u001b[0m /opt/conda/envs/rapids/bin/python3.6 rapids-higgs.py --bootstrap 0 --bootstrap_features 0 --max_depth 5 --max_features 0.2 --max_leaves -1 --n_bins 8 --n_estimators 15 --split_algo 0 --split_criterion 0\n",
      "\u001b[36malgo-1-tx2g3_1  |\u001b[0m \n",
      "\u001b[36malgo-1-tx2g3_1  |\u001b[0m \n",
      "\u001b[36malgo-1-tx2g3_1  |\u001b[0m /opt/conda/envs/rapids/lib/python3.6/site-packages/fsspec/implementations/local.py:33: FutureWarning: The default value of auto_mkdir=True has been deprecated and will be changed to auto_mkdir=False by default in a future release.\n",
      "\u001b[36malgo-1-tx2g3_1  |\u001b[0m   FutureWarning,\n",
      "\u001b[36malgo-1-tx2g3_1  |\u001b[0m test_acc: 0.62333\n",
      "\u001b[36malgo-1-tx2g3_1  |\u001b[0m 2020-05-14 23:41:36,635 sagemaker-containers INFO     Reporting training SUCCESS\n",
      "\u001b[36mtmptgfvyt34_algo-1-tx2g3_1 exited with code 0\n",
      "\u001b[0mAborting on container exit...\n",
      "===== Job Complete =====\n",
      "CPU times: user 353 ms, sys: 60.8 ms, total: 414 ms\n",
      "Wall time: 19 s\n"
     ]
    }
   ],
   "source": [
    "%%time\n",
    "rapids_estimator.fit({'dataset': local_data_dir})"
   ]
  },
  {
   "cell_type": "markdown",
   "metadata": {},
   "source": []
  },
  {
   "cell_type": "code",
   "execution_count": null,
   "metadata": {},
   "outputs": [],
   "source": [
    "region = boto3.Session().region_name\n",
    "account = boto3.client('sts').get_caller_identity().get('Account')\n",
    "image = '{}.dkr.ecr.{}.amazonaws.com/sagemaker-rapids:latest'.format(account, region)"
   ]
  },
  {
   "cell_type": "code",
   "execution_count": null,
   "metadata": {},
   "outputs": [],
   "source": [
    "!aws ecr create-repository --repository-name sagemaker-rapids\n",
    "!$(aws ecr get-login --no-include-email --region {region})\n",
    "!docker tag sagemaker-rapids:latest {image}\n",
    "!docker push {image}"
   ]
  },
  {
   "cell_type": "code",
   "execution_count": null,
   "metadata": {},
   "outputs": [],
   "source": [
    "from sagemaker.tuner import IntegerParameter, CategoricalParameter, ContinuousParameter, HyperparameterTuner\n",
    "\n",
    "hyperparameter_ranges = {\n",
    "    'n_estimators'        : IntegerParameter(10, 200), \n",
    "    'max_depth'           : IntegerParameter(1, 22),\n",
    "    'n_bins'              : IntegerParameter(5, 24),\n",
    "    'split_criterion'     : CategoricalParameter([0, 1]),\n",
    "    'split_algo'          : CategoricalParameter([0, 1]),\n",
    "    'bootstrap'           : CategoricalParameter([True, False]),\n",
    "    'bootstrap_features'  : CategoricalParameter([True, False]),\n",
    "    'max_features'        : ContinuousParameter(0.01, 0.5),\n",
    "}"
   ]
  },
  {
   "cell_type": "code",
   "execution_count": null,
   "metadata": {},
   "outputs": [],
   "source": [
    "from sagemaker.estimator import Estimator\n",
    "\n",
    "train_instance_type = 'ml.p3.2xlarge'\n",
    "rapids_estimator = Estimator(image_name=image,\n",
    "                          role=role,\n",
    "                          train_instance_count=1,\n",
    "                          train_instance_type=train_instance_type,\n",
    "                          hyperparameters=hyperparams,\n",
    "                          metric_definitions=[{'Name': 'test_acc', 'Regex': 'test_acc: ([0-9\\\\.]+)'}])"
   ]
  },
  {
   "cell_type": "code",
   "execution_count": null,
   "metadata": {},
   "outputs": [],
   "source": [
    "tuner = HyperparameterTuner(rapids_estimator,\n",
    "                            objective_metric_name='test_acc',\n",
    "                            hyperparameter_ranges=hyperparameter_ranges,\n",
    "                            strategy='Bayesian',\n",
    "                            max_jobs=1,\n",
    "                            max_parallel_jobs=1,\n",
    "                            objective_type='Maximize',\n",
    "                            metric_definitions=[{'Name': 'test_acc', 'Regex': 'test_acc: ([0-9\\\\.]+)'}])"
   ]
  },
  {
   "cell_type": "markdown",
   "metadata": {},
   "source": [
    "##### Upload it to the default SageMaker bucket on Amazon S3"
   ]
  },
  {
   "cell_type": "code",
   "execution_count": null,
   "metadata": {},
   "outputs": [],
   "source": [
    "s3_data_dir = sagemaker_session.upload_data(path='dataset', key_prefix='dataset/higgs-dataset')"
   ]
  },
  {
   "cell_type": "code",
   "execution_count": null,
   "metadata": {},
   "outputs": [],
   "source": [
    "job_name = 'rapidsHPO' + time.strftime('%Y-%m-%d-%H-%M-%S-%j', time.gmtime())\n",
    "tuner.fit({'dataset': s3_data_dir}, job_name=job_name)"
   ]
  },
  {
   "cell_type": "markdown",
   "metadata": {},
   "source": [
    "## Clean up"
   ]
  },
  {
   "cell_type": "markdown",
   "metadata": {},
   "source": [
    "- Delete S3 buckets and files you don't need\n",
    "- Kill training jobs that you don't want running\n",
    "- Delete container images and the repository you just created"
   ]
  },
  {
   "cell_type": "code",
   "execution_count": null,
   "metadata": {},
   "outputs": [],
   "source": [
    "aws ecr delete-repository --force --repository-name"
   ]
  }
 ],
 "metadata": {
  "kernelspec": {
   "display_name": "Python 3",
   "language": "python",
   "name": "python3"
  },
  "language_info": {
   "codemirror_mode": {
    "name": "ipython",
    "version": 3
   },
   "file_extension": ".py",
   "mimetype": "text/x-python",
   "name": "python",
   "nbconvert_exporter": "python",
   "pygments_lexer": "ipython3",
   "version": "3.7.7"
  }
 },
 "nbformat": 4,
 "nbformat_minor": 4
}
